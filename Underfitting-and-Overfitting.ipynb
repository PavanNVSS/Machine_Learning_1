{
 "cells": [
  {
   "cell_type": "markdown",
   "id": "1da02ab9",
   "metadata": {
    "papermill": {
     "duration": 0.004545,
     "end_time": "2023-04-30T08:37:04.593945",
     "exception": false,
     "start_time": "2023-04-30T08:37:04.589400",
     "status": "completed"
    },
    "tags": []
   },
   "source": [
    "**This notebook is an exercise in the [Introduction to Machine Learning](https://www.kaggle.com/learn/intro-to-machine-learning) course.  You can reference the tutorial at [this link](https://www.kaggle.com/dansbecker/underfitting-and-overfitting).**\n",
    "\n",
    "---\n"
   ]
  },
  {
   "cell_type": "markdown",
   "id": "b9d10120",
   "metadata": {
    "papermill": {
     "duration": 0.00291,
     "end_time": "2023-04-30T08:37:04.600357",
     "exception": false,
     "start_time": "2023-04-30T08:37:04.597447",
     "status": "completed"
    },
    "tags": []
   },
   "source": [
    "## Recap\n",
    "You've built your first model, and now it's time to optimize the size of the tree to make better predictions. Run this cell to set up your coding environment where the previous step left off."
   ]
  },
  {
   "cell_type": "code",
   "execution_count": 1,
   "id": "a60125c2",
   "metadata": {
    "execution": {
     "iopub.execute_input": "2023-04-30T08:37:04.609902Z",
     "iopub.status.busy": "2023-04-30T08:37:04.608532Z",
     "iopub.status.idle": "2023-04-30T08:37:06.342629Z",
     "shell.execute_reply": "2023-04-30T08:37:06.340852Z"
    },
    "papermill": {
     "duration": 1.741832,
     "end_time": "2023-04-30T08:37:06.345292",
     "exception": false,
     "start_time": "2023-04-30T08:37:04.603460",
     "status": "completed"
    },
    "tags": []
   },
   "outputs": [
    {
     "name": "stdout",
     "output_type": "stream",
     "text": [
      "Validation MAE: 29,653\n",
      "\n",
      "Setup complete\n"
     ]
    }
   ],
   "source": [
    "# Code you have previously used to load data\n",
    "import pandas as pd\n",
    "from sklearn.metrics import mean_absolute_error\n",
    "from sklearn.model_selection import train_test_split\n",
    "from sklearn.tree import DecisionTreeRegressor\n",
    "\n",
    "\n",
    "# Path of the file to read\n",
    "iowa_file_path = '../input/home-data-for-ml-course/train.csv'\n",
    "\n",
    "home_data = pd.read_csv(iowa_file_path)\n",
    "# Create target object and call it y\n",
    "y = home_data.SalePrice\n",
    "# Create X\n",
    "features = ['LotArea', 'YearBuilt', '1stFlrSF', '2ndFlrSF', 'FullBath', 'BedroomAbvGr', 'TotRmsAbvGrd']\n",
    "X = home_data[features]\n",
    "\n",
    "# Split into validation and training data\n",
    "train_X, val_X, train_y, val_y = train_test_split(X, y, random_state=1)\n",
    "\n",
    "# Specify Model\n",
    "iowa_model = DecisionTreeRegressor(random_state=1)\n",
    "# Fit Model\n",
    "iowa_model.fit(train_X, train_y)\n",
    "\n",
    "# Make validation predictions and calculate mean absolute error\n",
    "val_predictions = iowa_model.predict(val_X)\n",
    "val_mae = mean_absolute_error(val_predictions, val_y)\n",
    "print(\"Validation MAE: {:,.0f}\".format(val_mae))\n",
    "\n",
    "# Set up code checking\n",
    "from learntools.core import binder\n",
    "binder.bind(globals())\n",
    "from learntools.machine_learning.ex5 import *\n",
    "print(\"\\nSetup complete\")"
   ]
  },
  {
   "cell_type": "markdown",
   "id": "a7cbd61c",
   "metadata": {
    "papermill": {
     "duration": 0.002991,
     "end_time": "2023-04-30T08:37:06.351697",
     "exception": false,
     "start_time": "2023-04-30T08:37:06.348706",
     "status": "completed"
    },
    "tags": []
   },
   "source": [
    "# Exercises\n",
    "You could write the function `get_mae` yourself. For now, we'll supply it. This is the same function you read about in the previous lesson. Just run the cell below."
   ]
  },
  {
   "cell_type": "code",
   "execution_count": 2,
   "id": "54b9438a",
   "metadata": {
    "execution": {
     "iopub.execute_input": "2023-04-30T08:37:06.360626Z",
     "iopub.status.busy": "2023-04-30T08:37:06.360191Z",
     "iopub.status.idle": "2023-04-30T08:37:06.367377Z",
     "shell.execute_reply": "2023-04-30T08:37:06.365820Z"
    },
    "papermill": {
     "duration": 0.014605,
     "end_time": "2023-04-30T08:37:06.369524",
     "exception": false,
     "start_time": "2023-04-30T08:37:06.354919",
     "status": "completed"
    },
    "tags": []
   },
   "outputs": [],
   "source": [
    "def get_mae(max_leaf_nodes, train_X, val_X, train_y, val_y):\n",
    "    model = DecisionTreeRegressor(max_leaf_nodes=max_leaf_nodes, random_state=0)\n",
    "    model.fit(train_X, train_y)\n",
    "    preds_val = model.predict(val_X)\n",
    "    mae = mean_absolute_error(val_y, preds_val)\n",
    "    return(mae)"
   ]
  },
  {
   "cell_type": "markdown",
   "id": "cf28487f",
   "metadata": {
    "papermill": {
     "duration": 0.003274,
     "end_time": "2023-04-30T08:37:06.376594",
     "exception": false,
     "start_time": "2023-04-30T08:37:06.373320",
     "status": "completed"
    },
    "tags": []
   },
   "source": [
    "## Step 1: Compare Different Tree Sizes\n",
    "Write a loop that tries the following values for *max_leaf_nodes* from a set of possible values.\n",
    "\n",
    "Call the *get_mae* function on each value of max_leaf_nodes. Store the output in some way that allows you to select the value of `max_leaf_nodes` that gives the most accurate model on your data."
   ]
  },
  {
   "cell_type": "code",
   "execution_count": 3,
   "id": "ee10ee45",
   "metadata": {
    "execution": {
     "iopub.execute_input": "2023-04-30T08:37:06.386252Z",
     "iopub.status.busy": "2023-04-30T08:37:06.385367Z",
     "iopub.status.idle": "2023-04-30T08:37:06.429939Z",
     "shell.execute_reply": "2023-04-30T08:37:06.428818Z"
    },
    "papermill": {
     "duration": 0.051912,
     "end_time": "2023-04-30T08:37:06.431973",
     "exception": false,
     "start_time": "2023-04-30T08:37:06.380061",
     "status": "completed"
    },
    "tags": []
   },
   "outputs": [
    {
     "data": {
      "application/javascript": [
       "parent.postMessage({\"jupyterEvent\": \"custom.exercise_interaction\", \"data\": {\"outcomeType\": 1, \"valueTowardsCompletion\": 0.5, \"interactionType\": 1, \"questionType\": 1, \"questionId\": \"1_BestTreeSize\", \"learnToolsVersion\": \"0.3.4\", \"failureMessage\": \"\", \"exceptionClass\": \"\", \"trace\": \"\"}}, \"*\")"
      ],
      "text/plain": [
       "<IPython.core.display.Javascript object>"
      ]
     },
     "metadata": {},
     "output_type": "display_data"
    },
    {
     "data": {
      "text/markdown": [
       "<span style=\"color:#33cc33\">Correct</span>"
      ],
      "text/plain": [
       "Correct"
      ]
     },
     "metadata": {},
     "output_type": "display_data"
    }
   ],
   "source": [
    "candidate_max_leaf_nodes = [5, 25, 50, 100, 250, 500]\n",
    "scores = {leaf_size: get_mae(leaf_size, train_X, val_X, train_y, val_y) for leaf_size in candidate_max_leaf_nodes}\n",
    "\n",
    "\n",
    "# Store the best value of max_leaf_nodes (it will be either 5, 25, 50, 100, 250 or 500)\n",
    "best_tree_size = min(scores, key=scores.get)\n",
    "\n",
    "# Check your answer\n",
    "step_1.check()"
   ]
  },
  {
   "cell_type": "code",
   "execution_count": 4,
   "id": "37f7b71e",
   "metadata": {
    "execution": {
     "iopub.execute_input": "2023-04-30T08:37:06.442405Z",
     "iopub.status.busy": "2023-04-30T08:37:06.441065Z",
     "iopub.status.idle": "2023-04-30T08:37:06.446216Z",
     "shell.execute_reply": "2023-04-30T08:37:06.445068Z"
    },
    "papermill": {
     "duration": 0.013732,
     "end_time": "2023-04-30T08:37:06.449474",
     "exception": false,
     "start_time": "2023-04-30T08:37:06.435742",
     "status": "completed"
    },
    "tags": []
   },
   "outputs": [],
   "source": [
    "# The lines below will show you a hint or the solution.\n",
    "# step_1.hint() \n",
    "#step_1.solution()"
   ]
  },
  {
   "cell_type": "markdown",
   "id": "617e3a19",
   "metadata": {
    "papermill": {
     "duration": 0.00336,
     "end_time": "2023-04-30T08:37:06.457001",
     "exception": false,
     "start_time": "2023-04-30T08:37:06.453641",
     "status": "completed"
    },
    "tags": []
   },
   "source": [
    "## Step 2: Fit Model Using All Data\n",
    "You know the best tree size. If you were going to deploy this model in practice, you would make it even more accurate by using all of the data and keeping that tree size.  That is, you don't need to hold out the validation data now that you've made all your modeling decisions."
   ]
  },
  {
   "cell_type": "code",
   "execution_count": 5,
   "id": "d523c458",
   "metadata": {
    "execution": {
     "iopub.execute_input": "2023-04-30T08:37:06.466795Z",
     "iopub.status.busy": "2023-04-30T08:37:06.466288Z",
     "iopub.status.idle": "2023-04-30T08:37:06.485435Z",
     "shell.execute_reply": "2023-04-30T08:37:06.484190Z"
    },
    "papermill": {
     "duration": 0.026842,
     "end_time": "2023-04-30T08:37:06.487494",
     "exception": false,
     "start_time": "2023-04-30T08:37:06.460652",
     "status": "completed"
    },
    "tags": []
   },
   "outputs": [
    {
     "data": {
      "application/javascript": [
       "parent.postMessage({\"jupyterEvent\": \"custom.exercise_interaction\", \"data\": {\"outcomeType\": 1, \"valueTowardsCompletion\": 0.5, \"interactionType\": 1, \"questionType\": 2, \"questionId\": \"2_FitModelWithAllData\", \"learnToolsVersion\": \"0.3.4\", \"failureMessage\": \"\", \"exceptionClass\": \"\", \"trace\": \"\"}}, \"*\")"
      ],
      "text/plain": [
       "<IPython.core.display.Javascript object>"
      ]
     },
     "metadata": {},
     "output_type": "display_data"
    },
    {
     "data": {
      "text/markdown": [
       "<span style=\"color:#33cc33\">Correct</span>"
      ],
      "text/plain": [
       "Correct"
      ]
     },
     "metadata": {},
     "output_type": "display_data"
    }
   ],
   "source": [
    "final_model = DecisionTreeRegressor(max_leaf_nodes=best_tree_size, random_state=1)\n",
    "\n",
    "final_model.fit(X, y)\n",
    "\n",
    "\n",
    "# Check your answer\n",
    "step_2.check()"
   ]
  },
  {
   "cell_type": "code",
   "execution_count": 6,
   "id": "513ca259",
   "metadata": {
    "execution": {
     "iopub.execute_input": "2023-04-30T08:37:06.500048Z",
     "iopub.status.busy": "2023-04-30T08:37:06.498749Z",
     "iopub.status.idle": "2023-04-30T08:37:06.503926Z",
     "shell.execute_reply": "2023-04-30T08:37:06.502576Z"
    },
    "papermill": {
     "duration": 0.014703,
     "end_time": "2023-04-30T08:37:06.506936",
     "exception": false,
     "start_time": "2023-04-30T08:37:06.492233",
     "status": "completed"
    },
    "tags": []
   },
   "outputs": [],
   "source": [
    "# step_2.hint()\n",
    "#step_2.solution()"
   ]
  },
  {
   "cell_type": "markdown",
   "id": "a898b1ef",
   "metadata": {
    "papermill": {
     "duration": 0.003706,
     "end_time": "2023-04-30T08:37:06.515589",
     "exception": false,
     "start_time": "2023-04-30T08:37:06.511883",
     "status": "completed"
    },
    "tags": []
   },
   "source": [
    "You've tuned this model and improved your results. But we are still using Decision Tree models, which are not very sophisticated by modern machine learning standards. In the next step you will learn to use Random Forests to improve your models even more.\n",
    "\n",
    "# Keep Going\n",
    "\n",
    "You are ready for **[Random Forests](https://www.kaggle.com/dansbecker/random-forests).**\n"
   ]
  },
  {
   "cell_type": "markdown",
   "id": "fdbea51b",
   "metadata": {
    "papermill": {
     "duration": 0.003461,
     "end_time": "2023-04-30T08:37:06.522977",
     "exception": false,
     "start_time": "2023-04-30T08:37:06.519516",
     "status": "completed"
    },
    "tags": []
   },
   "source": [
    "---\n",
    "\n",
    "\n",
    "\n",
    "\n",
    "*Have questions or comments? Visit the [course discussion forum](https://www.kaggle.com/learn/intro-to-machine-learning/discussion) to chat with other learners.*"
   ]
  }
 ],
 "metadata": {
  "kernelspec": {
   "display_name": "Python 3",
   "language": "python",
   "name": "python3"
  },
  "language_info": {
   "codemirror_mode": {
    "name": "ipython",
    "version": 3
   },
   "file_extension": ".py",
   "mimetype": "text/x-python",
   "name": "python",
   "nbconvert_exporter": "python",
   "pygments_lexer": "ipython3",
   "version": "3.7.12"
  },
  "papermill": {
   "default_parameters": {},
   "duration": 14.559238,
   "end_time": "2023-04-30T08:37:07.553513",
   "environment_variables": {},
   "exception": null,
   "input_path": "__notebook__.ipynb",
   "output_path": "__notebook__.ipynb",
   "parameters": {},
   "start_time": "2023-04-30T08:36:52.994275",
   "version": "2.4.0"
  }
 },
 "nbformat": 4,
 "nbformat_minor": 5
}
