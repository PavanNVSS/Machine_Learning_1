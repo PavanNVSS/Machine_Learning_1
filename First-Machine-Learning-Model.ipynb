{
 "cells": [
  {
   "cell_type": "markdown",
   "id": "83d13f41",
   "metadata": {
    "papermill": {
     "duration": 0.006501,
     "end_time": "2023-04-30T08:20:17.105130",
     "exception": false,
     "start_time": "2023-04-30T08:20:17.098629",
     "status": "completed"
    },
    "tags": []
   },
   "source": [
    "**This notebook is an exercise in the [Introduction to Machine Learning](https://www.kaggle.com/learn/intro-to-machine-learning) course.  You can reference the tutorial at [this link](https://www.kaggle.com/dansbecker/your-first-machine-learning-model).**\n",
    "\n",
    "---\n"
   ]
  },
  {
   "cell_type": "markdown",
   "id": "cc3763db",
   "metadata": {
    "papermill": {
     "duration": 0.005119,
     "end_time": "2023-04-30T08:20:17.115987",
     "exception": false,
     "start_time": "2023-04-30T08:20:17.110868",
     "status": "completed"
    },
    "tags": []
   },
   "source": [
    "## Recap\n",
    "So far, you have loaded your data and reviewed it with the following code. Run this cell to set up your coding environment where the previous step left off."
   ]
  },
  {
   "cell_type": "code",
   "execution_count": 1,
   "id": "afb0ce6a",
   "metadata": {
    "execution": {
     "iopub.execute_input": "2023-04-30T08:20:17.129342Z",
     "iopub.status.busy": "2023-04-30T08:20:17.128532Z",
     "iopub.status.idle": "2023-04-30T08:20:18.662210Z",
     "shell.execute_reply": "2023-04-30T08:20:18.660547Z"
    },
    "papermill": {
     "duration": 1.543794,
     "end_time": "2023-04-30T08:20:18.665230",
     "exception": false,
     "start_time": "2023-04-30T08:20:17.121436",
     "status": "completed"
    },
    "tags": []
   },
   "outputs": [
    {
     "name": "stdout",
     "output_type": "stream",
     "text": [
      "Setup Complete\n"
     ]
    }
   ],
   "source": [
    "# Code you have previously used to load data\n",
    "import pandas as pd\n",
    "\n",
    "# Path of the file to read\n",
    "iowa_file_path = '../input/home-data-for-ml-course/train.csv'\n",
    "\n",
    "home_data = pd.read_csv(iowa_file_path)\n",
    "\n",
    "# Set up code checking\n",
    "from learntools.core import binder\n",
    "binder.bind(globals())\n",
    "from learntools.machine_learning.ex3 import *\n",
    "\n",
    "print(\"Setup Complete\")"
   ]
  },
  {
   "cell_type": "markdown",
   "id": "2a622ed9",
   "metadata": {
    "papermill": {
     "duration": 0.005671,
     "end_time": "2023-04-30T08:20:18.676874",
     "exception": false,
     "start_time": "2023-04-30T08:20:18.671203",
     "status": "completed"
    },
    "tags": []
   },
   "source": [
    "# Exercises\n",
    "\n",
    "## Step 1: Specify Prediction Target\n",
    "Select the target variable, which corresponds to the sales price. Save this to a new variable called `y`. You'll need to print a list of the columns to find the name of the column you need.\n"
   ]
  },
  {
   "cell_type": "code",
   "execution_count": 2,
   "id": "0974bc52",
   "metadata": {
    "execution": {
     "iopub.execute_input": "2023-04-30T08:20:18.690878Z",
     "iopub.status.busy": "2023-04-30T08:20:18.690129Z",
     "iopub.status.idle": "2023-04-30T08:20:18.736289Z",
     "shell.execute_reply": "2023-04-30T08:20:18.735178Z"
    },
    "papermill": {
     "duration": 0.056091,
     "end_time": "2023-04-30T08:20:18.738818",
     "exception": false,
     "start_time": "2023-04-30T08:20:18.682727",
     "status": "completed"
    },
    "tags": []
   },
   "outputs": [
    {
     "data": {
      "text/html": [
       "<div>\n",
       "<style scoped>\n",
       "    .dataframe tbody tr th:only-of-type {\n",
       "        vertical-align: middle;\n",
       "    }\n",
       "\n",
       "    .dataframe tbody tr th {\n",
       "        vertical-align: top;\n",
       "    }\n",
       "\n",
       "    .dataframe thead th {\n",
       "        text-align: right;\n",
       "    }\n",
       "</style>\n",
       "<table border=\"1\" class=\"dataframe\">\n",
       "  <thead>\n",
       "    <tr style=\"text-align: right;\">\n",
       "      <th></th>\n",
       "      <th>Id</th>\n",
       "      <th>MSSubClass</th>\n",
       "      <th>MSZoning</th>\n",
       "      <th>LotFrontage</th>\n",
       "      <th>LotArea</th>\n",
       "      <th>Street</th>\n",
       "      <th>Alley</th>\n",
       "      <th>LotShape</th>\n",
       "      <th>LandContour</th>\n",
       "      <th>Utilities</th>\n",
       "      <th>...</th>\n",
       "      <th>PoolArea</th>\n",
       "      <th>PoolQC</th>\n",
       "      <th>Fence</th>\n",
       "      <th>MiscFeature</th>\n",
       "      <th>MiscVal</th>\n",
       "      <th>MoSold</th>\n",
       "      <th>YrSold</th>\n",
       "      <th>SaleType</th>\n",
       "      <th>SaleCondition</th>\n",
       "      <th>SalePrice</th>\n",
       "    </tr>\n",
       "  </thead>\n",
       "  <tbody>\n",
       "    <tr>\n",
       "      <th>0</th>\n",
       "      <td>1</td>\n",
       "      <td>60</td>\n",
       "      <td>RL</td>\n",
       "      <td>65.0</td>\n",
       "      <td>8450</td>\n",
       "      <td>Pave</td>\n",
       "      <td>NaN</td>\n",
       "      <td>Reg</td>\n",
       "      <td>Lvl</td>\n",
       "      <td>AllPub</td>\n",
       "      <td>...</td>\n",
       "      <td>0</td>\n",
       "      <td>NaN</td>\n",
       "      <td>NaN</td>\n",
       "      <td>NaN</td>\n",
       "      <td>0</td>\n",
       "      <td>2</td>\n",
       "      <td>2008</td>\n",
       "      <td>WD</td>\n",
       "      <td>Normal</td>\n",
       "      <td>208500</td>\n",
       "    </tr>\n",
       "    <tr>\n",
       "      <th>1</th>\n",
       "      <td>2</td>\n",
       "      <td>20</td>\n",
       "      <td>RL</td>\n",
       "      <td>80.0</td>\n",
       "      <td>9600</td>\n",
       "      <td>Pave</td>\n",
       "      <td>NaN</td>\n",
       "      <td>Reg</td>\n",
       "      <td>Lvl</td>\n",
       "      <td>AllPub</td>\n",
       "      <td>...</td>\n",
       "      <td>0</td>\n",
       "      <td>NaN</td>\n",
       "      <td>NaN</td>\n",
       "      <td>NaN</td>\n",
       "      <td>0</td>\n",
       "      <td>5</td>\n",
       "      <td>2007</td>\n",
       "      <td>WD</td>\n",
       "      <td>Normal</td>\n",
       "      <td>181500</td>\n",
       "    </tr>\n",
       "    <tr>\n",
       "      <th>2</th>\n",
       "      <td>3</td>\n",
       "      <td>60</td>\n",
       "      <td>RL</td>\n",
       "      <td>68.0</td>\n",
       "      <td>11250</td>\n",
       "      <td>Pave</td>\n",
       "      <td>NaN</td>\n",
       "      <td>IR1</td>\n",
       "      <td>Lvl</td>\n",
       "      <td>AllPub</td>\n",
       "      <td>...</td>\n",
       "      <td>0</td>\n",
       "      <td>NaN</td>\n",
       "      <td>NaN</td>\n",
       "      <td>NaN</td>\n",
       "      <td>0</td>\n",
       "      <td>9</td>\n",
       "      <td>2008</td>\n",
       "      <td>WD</td>\n",
       "      <td>Normal</td>\n",
       "      <td>223500</td>\n",
       "    </tr>\n",
       "    <tr>\n",
       "      <th>3</th>\n",
       "      <td>4</td>\n",
       "      <td>70</td>\n",
       "      <td>RL</td>\n",
       "      <td>60.0</td>\n",
       "      <td>9550</td>\n",
       "      <td>Pave</td>\n",
       "      <td>NaN</td>\n",
       "      <td>IR1</td>\n",
       "      <td>Lvl</td>\n",
       "      <td>AllPub</td>\n",
       "      <td>...</td>\n",
       "      <td>0</td>\n",
       "      <td>NaN</td>\n",
       "      <td>NaN</td>\n",
       "      <td>NaN</td>\n",
       "      <td>0</td>\n",
       "      <td>2</td>\n",
       "      <td>2006</td>\n",
       "      <td>WD</td>\n",
       "      <td>Abnorml</td>\n",
       "      <td>140000</td>\n",
       "    </tr>\n",
       "    <tr>\n",
       "      <th>4</th>\n",
       "      <td>5</td>\n",
       "      <td>60</td>\n",
       "      <td>RL</td>\n",
       "      <td>84.0</td>\n",
       "      <td>14260</td>\n",
       "      <td>Pave</td>\n",
       "      <td>NaN</td>\n",
       "      <td>IR1</td>\n",
       "      <td>Lvl</td>\n",
       "      <td>AllPub</td>\n",
       "      <td>...</td>\n",
       "      <td>0</td>\n",
       "      <td>NaN</td>\n",
       "      <td>NaN</td>\n",
       "      <td>NaN</td>\n",
       "      <td>0</td>\n",
       "      <td>12</td>\n",
       "      <td>2008</td>\n",
       "      <td>WD</td>\n",
       "      <td>Normal</td>\n",
       "      <td>250000</td>\n",
       "    </tr>\n",
       "  </tbody>\n",
       "</table>\n",
       "<p>5 rows × 81 columns</p>\n",
       "</div>"
      ],
      "text/plain": [
       "   Id  MSSubClass MSZoning  LotFrontage  LotArea Street Alley LotShape  \\\n",
       "0   1          60       RL         65.0     8450   Pave   NaN      Reg   \n",
       "1   2          20       RL         80.0     9600   Pave   NaN      Reg   \n",
       "2   3          60       RL         68.0    11250   Pave   NaN      IR1   \n",
       "3   4          70       RL         60.0     9550   Pave   NaN      IR1   \n",
       "4   5          60       RL         84.0    14260   Pave   NaN      IR1   \n",
       "\n",
       "  LandContour Utilities  ... PoolArea PoolQC Fence MiscFeature MiscVal MoSold  \\\n",
       "0         Lvl    AllPub  ...        0    NaN   NaN         NaN       0      2   \n",
       "1         Lvl    AllPub  ...        0    NaN   NaN         NaN       0      5   \n",
       "2         Lvl    AllPub  ...        0    NaN   NaN         NaN       0      9   \n",
       "3         Lvl    AllPub  ...        0    NaN   NaN         NaN       0      2   \n",
       "4         Lvl    AllPub  ...        0    NaN   NaN         NaN       0     12   \n",
       "\n",
       "  YrSold  SaleType  SaleCondition  SalePrice  \n",
       "0   2008        WD         Normal     208500  \n",
       "1   2007        WD         Normal     181500  \n",
       "2   2008        WD         Normal     223500  \n",
       "3   2006        WD        Abnorml     140000  \n",
       "4   2008        WD         Normal     250000  \n",
       "\n",
       "[5 rows x 81 columns]"
      ]
     },
     "execution_count": 2,
     "metadata": {},
     "output_type": "execute_result"
    }
   ],
   "source": [
    "# print the list of columns in the dataset to find the name of the prediction target\n",
    "home_data.head()"
   ]
  },
  {
   "cell_type": "code",
   "execution_count": 3,
   "id": "0ca61e7d",
   "metadata": {
    "execution": {
     "iopub.execute_input": "2023-04-30T08:20:18.754310Z",
     "iopub.status.busy": "2023-04-30T08:20:18.752001Z",
     "iopub.status.idle": "2023-04-30T08:20:18.768130Z",
     "shell.execute_reply": "2023-04-30T08:20:18.767086Z"
    },
    "papermill": {
     "duration": 0.025677,
     "end_time": "2023-04-30T08:20:18.770468",
     "exception": false,
     "start_time": "2023-04-30T08:20:18.744791",
     "status": "completed"
    },
    "tags": []
   },
   "outputs": [
    {
     "data": {
      "application/javascript": [
       "parent.postMessage({\"jupyterEvent\": \"custom.exercise_interaction\", \"data\": {\"outcomeType\": 1, \"valueTowardsCompletion\": 0.25, \"interactionType\": 1, \"questionType\": 2, \"questionId\": \"1_SetTarget\", \"learnToolsVersion\": \"0.3.4\", \"failureMessage\": \"\", \"exceptionClass\": \"\", \"trace\": \"\"}}, \"*\")"
      ],
      "text/plain": [
       "<IPython.core.display.Javascript object>"
      ]
     },
     "metadata": {},
     "output_type": "display_data"
    },
    {
     "data": {
      "text/markdown": [
       "<span style=\"color:#33cc33\">Correct</span>"
      ],
      "text/plain": [
       "Correct"
      ]
     },
     "metadata": {},
     "output_type": "display_data"
    }
   ],
   "source": [
    "y = home_data.SalePrice\n",
    "\n",
    "# Check your answer\n",
    "step_1.check()"
   ]
  },
  {
   "cell_type": "code",
   "execution_count": 4,
   "id": "af51b7db",
   "metadata": {
    "execution": {
     "iopub.execute_input": "2023-04-30T08:20:18.784642Z",
     "iopub.status.busy": "2023-04-30T08:20:18.783925Z",
     "iopub.status.idle": "2023-04-30T08:20:18.788820Z",
     "shell.execute_reply": "2023-04-30T08:20:18.787786Z"
    },
    "papermill": {
     "duration": 0.014862,
     "end_time": "2023-04-30T08:20:18.791197",
     "exception": false,
     "start_time": "2023-04-30T08:20:18.776335",
     "status": "completed"
    },
    "tags": []
   },
   "outputs": [],
   "source": [
    "# The lines below will show you a hint or the solution.\n",
    "# step_1.hint() \n",
    "#step_1.solution()"
   ]
  },
  {
   "cell_type": "markdown",
   "id": "6ebe2c49",
   "metadata": {
    "papermill": {
     "duration": 0.006171,
     "end_time": "2023-04-30T08:20:18.803321",
     "exception": false,
     "start_time": "2023-04-30T08:20:18.797150",
     "status": "completed"
    },
    "tags": []
   },
   "source": [
    "## Step 2: Create X\n",
    "Now you will create a DataFrame called `X` holding the predictive features.\n",
    "\n",
    "Since you want only some columns from the original data, you'll first create a list with the names of the columns you want in `X`.\n",
    "\n",
    "You'll use just the following columns in the list (you can copy and paste the whole list to save some typing, though you'll still need to add quotes):\n",
    "  * LotArea\n",
    "  * YearBuilt\n",
    "  * 1stFlrSF\n",
    "  * 2ndFlrSF\n",
    "  * FullBath\n",
    "  * BedroomAbvGr\n",
    "  * TotRmsAbvGrd\n",
    "\n",
    "After you've created that list of features, use it to create the DataFrame that you'll use to fit the model."
   ]
  },
  {
   "cell_type": "code",
   "execution_count": 5,
   "id": "1bce713b",
   "metadata": {
    "execution": {
     "iopub.execute_input": "2023-04-30T08:20:18.817850Z",
     "iopub.status.busy": "2023-04-30T08:20:18.817056Z",
     "iopub.status.idle": "2023-04-30T08:20:18.829723Z",
     "shell.execute_reply": "2023-04-30T08:20:18.828228Z"
    },
    "papermill": {
     "duration": 0.023329,
     "end_time": "2023-04-30T08:20:18.832737",
     "exception": false,
     "start_time": "2023-04-30T08:20:18.809408",
     "status": "completed"
    },
    "tags": []
   },
   "outputs": [
    {
     "data": {
      "application/javascript": [
       "parent.postMessage({\"jupyterEvent\": \"custom.exercise_interaction\", \"data\": {\"outcomeType\": 1, \"valueTowardsCompletion\": 0.25, \"interactionType\": 1, \"questionType\": 2, \"questionId\": \"2_SelectPredictionData\", \"learnToolsVersion\": \"0.3.4\", \"failureMessage\": \"\", \"exceptionClass\": \"\", \"trace\": \"\"}}, \"*\")"
      ],
      "text/plain": [
       "<IPython.core.display.Javascript object>"
      ]
     },
     "metadata": {},
     "output_type": "display_data"
    },
    {
     "data": {
      "text/markdown": [
       "<span style=\"color:#33cc33\">Correct</span>"
      ],
      "text/plain": [
       "Correct"
      ]
     },
     "metadata": {},
     "output_type": "display_data"
    }
   ],
   "source": [
    "# Create the list of features below\n",
    "feature_names = ___\n",
    "\n",
    "# Select data corresponding to features in feature_names\n",
    "feature_names = [\"LotArea\", \"YearBuilt\", \"1stFlrSF\", \"2ndFlrSF\",\n",
    "                      \"FullBath\", \"BedroomAbvGr\", \"TotRmsAbvGrd\"]\n",
    "\n",
    "X=home_data[feature_names]\n",
    "\n",
    "# Check your answer\n",
    "step_2.check()"
   ]
  },
  {
   "cell_type": "code",
   "execution_count": 6,
   "id": "81c322f7",
   "metadata": {
    "execution": {
     "iopub.execute_input": "2023-04-30T08:20:18.847753Z",
     "iopub.status.busy": "2023-04-30T08:20:18.846633Z",
     "iopub.status.idle": "2023-04-30T08:20:18.851782Z",
     "shell.execute_reply": "2023-04-30T08:20:18.850617Z"
    },
    "papermill": {
     "duration": 0.015262,
     "end_time": "2023-04-30T08:20:18.854241",
     "exception": false,
     "start_time": "2023-04-30T08:20:18.838979",
     "status": "completed"
    },
    "tags": []
   },
   "outputs": [],
   "source": [
    "# step_2.hint()\n",
    "#step_2.solution()"
   ]
  },
  {
   "cell_type": "markdown",
   "id": "ba41bceb",
   "metadata": {
    "papermill": {
     "duration": 0.005994,
     "end_time": "2023-04-30T08:20:18.866581",
     "exception": false,
     "start_time": "2023-04-30T08:20:18.860587",
     "status": "completed"
    },
    "tags": []
   },
   "source": [
    "## Review Data\n",
    "Before building a model, take a quick look at **X** to verify it looks sensible"
   ]
  },
  {
   "cell_type": "code",
   "execution_count": 7,
   "id": "85a86609",
   "metadata": {
    "execution": {
     "iopub.execute_input": "2023-04-30T08:20:18.882119Z",
     "iopub.status.busy": "2023-04-30T08:20:18.881686Z",
     "iopub.status.idle": "2023-04-30T08:20:18.898189Z",
     "shell.execute_reply": "2023-04-30T08:20:18.896633Z"
    },
    "papermill": {
     "duration": 0.027009,
     "end_time": "2023-04-30T08:20:18.900822",
     "exception": false,
     "start_time": "2023-04-30T08:20:18.873813",
     "status": "completed"
    },
    "tags": []
   },
   "outputs": [
    {
     "name": "stdout",
     "output_type": "stream",
     "text": [
      "      LotArea  YearBuilt  1stFlrSF  2ndFlrSF  FullBath  BedroomAbvGr  \\\n",
      "0        8450       2003       856       854         2             3   \n",
      "1        9600       1976      1262         0         2             3   \n",
      "2       11250       2001       920       866         2             3   \n",
      "3        9550       1915       961       756         1             3   \n",
      "4       14260       2000      1145      1053         2             4   \n",
      "...       ...        ...       ...       ...       ...           ...   \n",
      "1455     7917       1999       953       694         2             3   \n",
      "1456    13175       1978      2073         0         2             3   \n",
      "1457     9042       1941      1188      1152         2             4   \n",
      "1458     9717       1950      1078         0         1             2   \n",
      "1459     9937       1965      1256         0         1             3   \n",
      "\n",
      "      TotRmsAbvGrd  \n",
      "0                8  \n",
      "1                6  \n",
      "2                6  \n",
      "3                7  \n",
      "4                9  \n",
      "...            ...  \n",
      "1455             7  \n",
      "1456             7  \n",
      "1457             9  \n",
      "1458             5  \n",
      "1459             6  \n",
      "\n",
      "[1460 rows x 7 columns]\n"
     ]
    },
    {
     "data": {
      "text/html": [
       "<div>\n",
       "<style scoped>\n",
       "    .dataframe tbody tr th:only-of-type {\n",
       "        vertical-align: middle;\n",
       "    }\n",
       "\n",
       "    .dataframe tbody tr th {\n",
       "        vertical-align: top;\n",
       "    }\n",
       "\n",
       "    .dataframe thead th {\n",
       "        text-align: right;\n",
       "    }\n",
       "</style>\n",
       "<table border=\"1\" class=\"dataframe\">\n",
       "  <thead>\n",
       "    <tr style=\"text-align: right;\">\n",
       "      <th></th>\n",
       "      <th>LotArea</th>\n",
       "      <th>YearBuilt</th>\n",
       "      <th>1stFlrSF</th>\n",
       "      <th>2ndFlrSF</th>\n",
       "      <th>FullBath</th>\n",
       "      <th>BedroomAbvGr</th>\n",
       "      <th>TotRmsAbvGrd</th>\n",
       "    </tr>\n",
       "  </thead>\n",
       "  <tbody>\n",
       "    <tr>\n",
       "      <th>0</th>\n",
       "      <td>8450</td>\n",
       "      <td>2003</td>\n",
       "      <td>856</td>\n",
       "      <td>854</td>\n",
       "      <td>2</td>\n",
       "      <td>3</td>\n",
       "      <td>8</td>\n",
       "    </tr>\n",
       "    <tr>\n",
       "      <th>1</th>\n",
       "      <td>9600</td>\n",
       "      <td>1976</td>\n",
       "      <td>1262</td>\n",
       "      <td>0</td>\n",
       "      <td>2</td>\n",
       "      <td>3</td>\n",
       "      <td>6</td>\n",
       "    </tr>\n",
       "    <tr>\n",
       "      <th>2</th>\n",
       "      <td>11250</td>\n",
       "      <td>2001</td>\n",
       "      <td>920</td>\n",
       "      <td>866</td>\n",
       "      <td>2</td>\n",
       "      <td>3</td>\n",
       "      <td>6</td>\n",
       "    </tr>\n",
       "    <tr>\n",
       "      <th>3</th>\n",
       "      <td>9550</td>\n",
       "      <td>1915</td>\n",
       "      <td>961</td>\n",
       "      <td>756</td>\n",
       "      <td>1</td>\n",
       "      <td>3</td>\n",
       "      <td>7</td>\n",
       "    </tr>\n",
       "    <tr>\n",
       "      <th>4</th>\n",
       "      <td>14260</td>\n",
       "      <td>2000</td>\n",
       "      <td>1145</td>\n",
       "      <td>1053</td>\n",
       "      <td>2</td>\n",
       "      <td>4</td>\n",
       "      <td>9</td>\n",
       "    </tr>\n",
       "  </tbody>\n",
       "</table>\n",
       "</div>"
      ],
      "text/plain": [
       "   LotArea  YearBuilt  1stFlrSF  2ndFlrSF  FullBath  BedroomAbvGr  \\\n",
       "0     8450       2003       856       854         2             3   \n",
       "1     9600       1976      1262         0         2             3   \n",
       "2    11250       2001       920       866         2             3   \n",
       "3     9550       1915       961       756         1             3   \n",
       "4    14260       2000      1145      1053         2             4   \n",
       "\n",
       "   TotRmsAbvGrd  \n",
       "0             8  \n",
       "1             6  \n",
       "2             6  \n",
       "3             7  \n",
       "4             9  "
      ]
     },
     "execution_count": 7,
     "metadata": {},
     "output_type": "execute_result"
    }
   ],
   "source": [
    "# Review data\n",
    "# print description or statistics from X\n",
    "#print(_)\n",
    "print(X)\n",
    "# print the top few lines\n",
    "#print(_)\n",
    "X.head()"
   ]
  },
  {
   "cell_type": "markdown",
   "id": "0a1f9699",
   "metadata": {
    "papermill": {
     "duration": 0.006205,
     "end_time": "2023-04-30T08:20:18.913533",
     "exception": false,
     "start_time": "2023-04-30T08:20:18.907328",
     "status": "completed"
    },
    "tags": []
   },
   "source": [
    "## Step 3: Specify and Fit Model\n",
    "Create a `DecisionTreeRegressor` and save it iowa_model. Ensure you've done the relevant import from sklearn to run this command.\n",
    "\n",
    "Then fit the model you just created using the data in `X` and `y` that you saved above."
   ]
  },
  {
   "cell_type": "code",
   "execution_count": 8,
   "id": "133f550a",
   "metadata": {
    "execution": {
     "iopub.execute_input": "2023-04-30T08:20:18.928707Z",
     "iopub.status.busy": "2023-04-30T08:20:18.928104Z",
     "iopub.status.idle": "2023-04-30T08:20:18.949231Z",
     "shell.execute_reply": "2023-04-30T08:20:18.948056Z"
    },
    "papermill": {
     "duration": 0.031657,
     "end_time": "2023-04-30T08:20:18.951690",
     "exception": false,
     "start_time": "2023-04-30T08:20:18.920033",
     "status": "completed"
    },
    "tags": []
   },
   "outputs": [
    {
     "data": {
      "application/javascript": [
       "parent.postMessage({\"jupyterEvent\": \"custom.exercise_interaction\", \"data\": {\"outcomeType\": 1, \"valueTowardsCompletion\": 0.25, \"interactionType\": 1, \"questionType\": 2, \"questionId\": \"3_CreateModel\", \"learnToolsVersion\": \"0.3.4\", \"failureMessage\": \"\", \"exceptionClass\": \"\", \"trace\": \"\"}}, \"*\")"
      ],
      "text/plain": [
       "<IPython.core.display.Javascript object>"
      ]
     },
     "metadata": {},
     "output_type": "display_data"
    },
    {
     "data": {
      "text/markdown": [
       "<span style=\"color:#33cc33\">Correct</span>"
      ],
      "text/plain": [
       "Correct"
      ]
     },
     "metadata": {},
     "output_type": "display_data"
    }
   ],
   "source": [
    "# from _ import _\n",
    "from sklearn.tree import DecisionTreeRegressor\n",
    "iowa_model = DecisionTreeRegressor(random_state=1)\n",
    "iowa_model.fit(X, y)\n",
    "# Fit the model\n",
    "____\n",
    "\n",
    "# Check your answer\n",
    "step_3.check()"
   ]
  },
  {
   "cell_type": "code",
   "execution_count": 9,
   "id": "90a0f5a8",
   "metadata": {
    "execution": {
     "iopub.execute_input": "2023-04-30T08:20:18.967267Z",
     "iopub.status.busy": "2023-04-30T08:20:18.966827Z",
     "iopub.status.idle": "2023-04-30T08:20:18.971979Z",
     "shell.execute_reply": "2023-04-30T08:20:18.970773Z"
    },
    "papermill": {
     "duration": 0.015743,
     "end_time": "2023-04-30T08:20:18.974303",
     "exception": false,
     "start_time": "2023-04-30T08:20:18.958560",
     "status": "completed"
    },
    "tags": []
   },
   "outputs": [],
   "source": [
    "# step_3.hint()\n",
    "#step_3.solution()"
   ]
  },
  {
   "cell_type": "markdown",
   "id": "0547d1c5",
   "metadata": {
    "papermill": {
     "duration": 0.006327,
     "end_time": "2023-04-30T08:20:18.988409",
     "exception": false,
     "start_time": "2023-04-30T08:20:18.982082",
     "status": "completed"
    },
    "tags": []
   },
   "source": [
    "## Step 4: Make Predictions\n",
    "Make predictions with the model's `predict` command using `X` as the data. Save the results to a variable called `predictions`."
   ]
  },
  {
   "cell_type": "code",
   "execution_count": 10,
   "id": "e67e8bce",
   "metadata": {
    "execution": {
     "iopub.execute_input": "2023-04-30T08:20:19.003950Z",
     "iopub.status.busy": "2023-04-30T08:20:19.003401Z",
     "iopub.status.idle": "2023-04-30T08:20:19.018830Z",
     "shell.execute_reply": "2023-04-30T08:20:19.017684Z"
    },
    "papermill": {
     "duration": 0.026373,
     "end_time": "2023-04-30T08:20:19.021481",
     "exception": false,
     "start_time": "2023-04-30T08:20:18.995108",
     "status": "completed"
    },
    "tags": []
   },
   "outputs": [
    {
     "name": "stdout",
     "output_type": "stream",
     "text": [
      "[208500. 181500. 223500. ... 266500. 142125. 147500.]\n"
     ]
    },
    {
     "data": {
      "application/javascript": [
       "parent.postMessage({\"jupyterEvent\": \"custom.exercise_interaction\", \"data\": {\"outcomeType\": 1, \"valueTowardsCompletion\": 0.25, \"interactionType\": 1, \"questionType\": 2, \"questionId\": \"4_MakePredictions\", \"learnToolsVersion\": \"0.3.4\", \"failureMessage\": \"\", \"exceptionClass\": \"\", \"trace\": \"\"}}, \"*\")"
      ],
      "text/plain": [
       "<IPython.core.display.Javascript object>"
      ]
     },
     "metadata": {},
     "output_type": "display_data"
    },
    {
     "data": {
      "text/markdown": [
       "<span style=\"color:#33cc33\">Correct</span>"
      ],
      "text/plain": [
       "Correct"
      ]
     },
     "metadata": {},
     "output_type": "display_data"
    }
   ],
   "source": [
    "predictions = iowa_model.predict(X)\n",
    "\n",
    "print(predictions)\n",
    "\n",
    "# Check your answer\n",
    "step_4.check()"
   ]
  },
  {
   "cell_type": "code",
   "execution_count": 11,
   "id": "e7e8fbb2",
   "metadata": {
    "execution": {
     "iopub.execute_input": "2023-04-30T08:20:19.038318Z",
     "iopub.status.busy": "2023-04-30T08:20:19.037835Z",
     "iopub.status.idle": "2023-04-30T08:20:19.042800Z",
     "shell.execute_reply": "2023-04-30T08:20:19.041558Z"
    },
    "papermill": {
     "duration": 0.016487,
     "end_time": "2023-04-30T08:20:19.045294",
     "exception": false,
     "start_time": "2023-04-30T08:20:19.028807",
     "status": "completed"
    },
    "tags": []
   },
   "outputs": [],
   "source": [
    "# step_4.hint()\n",
    "#step_4.solution()"
   ]
  },
  {
   "cell_type": "markdown",
   "id": "ff4be863",
   "metadata": {
    "papermill": {
     "duration": 0.006751,
     "end_time": "2023-04-30T08:20:19.059177",
     "exception": false,
     "start_time": "2023-04-30T08:20:19.052426",
     "status": "completed"
    },
    "tags": []
   },
   "source": [
    "## Think About Your Results\n",
    "\n",
    "Use the `head` method to compare the top few predictions to the actual home values (in `y`) for those same homes. Anything surprising?\n"
   ]
  },
  {
   "cell_type": "code",
   "execution_count": 12,
   "id": "512d9b51",
   "metadata": {
    "execution": {
     "iopub.execute_input": "2023-04-30T08:20:19.075203Z",
     "iopub.status.busy": "2023-04-30T08:20:19.074319Z",
     "iopub.status.idle": "2023-04-30T08:20:19.083502Z",
     "shell.execute_reply": "2023-04-30T08:20:19.082221Z"
    },
    "papermill": {
     "duration": 0.020164,
     "end_time": "2023-04-30T08:20:19.086201",
     "exception": false,
     "start_time": "2023-04-30T08:20:19.066037",
     "status": "completed"
    },
    "tags": []
   },
   "outputs": [
    {
     "name": "stdout",
     "output_type": "stream",
     "text": [
      "actual  :  0       208500\n",
      "1       181500\n",
      "2       223500\n",
      "3       140000\n",
      "4       250000\n",
      "         ...  \n",
      "1455    175000\n",
      "1456    210000\n",
      "1457    266500\n",
      "1458    142125\n",
      "1459    147500\n",
      "Name: SalePrice, Length: 1460, dtype: int64\n",
      "------------------------------------------------------------------\n",
      "------------------------------------------------------------------\n",
      "------------------------------------------------------------------\n",
      "------------------------------------------------------------------\n",
      "predicted :  [208500. 181500. 223500. ... 266500. 142125. 147500.]\n"
     ]
    }
   ],
   "source": [
    "print(f\"actual  : \",y)\n",
    "print(\"------------------------------------------------------------------\")\n",
    "print(\"------------------------------------------------------------------\")\n",
    "print(\"------------------------------------------------------------------\")\n",
    "print(\"------------------------------------------------------------------\")\n",
    "\n",
    "print(f\"predicted : \",predictions)"
   ]
  },
  {
   "cell_type": "markdown",
   "id": "3f4129e8",
   "metadata": {
    "papermill": {
     "duration": 0.006961,
     "end_time": "2023-04-30T08:20:19.100530",
     "exception": false,
     "start_time": "2023-04-30T08:20:19.093569",
     "status": "completed"
    },
    "tags": []
   },
   "source": [
    "It's natural to ask how accurate the model's predictions will be and how you can improve that. That will be you're next step.\n",
    "\n",
    "# Keep Going\n",
    "\n",
    "You are ready for **[Model Validation](https://www.kaggle.com/dansbecker/model-validation).**\n"
   ]
  },
  {
   "cell_type": "markdown",
   "id": "3ca05c37",
   "metadata": {
    "papermill": {
     "duration": 0.006598,
     "end_time": "2023-04-30T08:20:19.114213",
     "exception": false,
     "start_time": "2023-04-30T08:20:19.107615",
     "status": "completed"
    },
    "tags": []
   },
   "source": [
    "---\n",
    "\n",
    "\n",
    "\n",
    "\n",
    "*Have questions or comments? Visit the [course discussion forum](https://www.kaggle.com/learn/intro-to-machine-learning/discussion) to chat with other learners.*"
   ]
  }
 ],
 "metadata": {
  "kernelspec": {
   "display_name": "Python 3",
   "language": "python",
   "name": "python3"
  },
  "language_info": {
   "codemirror_mode": {
    "name": "ipython",
    "version": 3
   },
   "file_extension": ".py",
   "mimetype": "text/x-python",
   "name": "python",
   "nbconvert_exporter": "python",
   "pygments_lexer": "ipython3",
   "version": "3.7.12"
  },
  "papermill": {
   "default_parameters": {},
   "duration": 13.56608,
   "end_time": "2023-04-30T08:20:19.944569",
   "environment_variables": {},
   "exception": null,
   "input_path": "__notebook__.ipynb",
   "output_path": "__notebook__.ipynb",
   "parameters": {},
   "start_time": "2023-04-30T08:20:06.378489",
   "version": "2.4.0"
  }
 },
 "nbformat": 4,
 "nbformat_minor": 5
}
